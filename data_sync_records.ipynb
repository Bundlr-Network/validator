{
 "cells": [
  {
   "cell_type": "markdown",
   "id": "802d0c14",
   "metadata": {},
   "source": [
    "# Setup\n",
    "\n",
    "## Julia\n",
    "\n",
    "Unless not installed yet, install `IJulia` package and other dependencies in Julia runtime environment:\n",
    "```sh\n",
    "$ julia\n",
    "\n",
    "               _\n",
    "   _       _ _(_)_     |  Documentation: https://docs.julialang.org\n",
    "  (_)     | (_) (_)    |\n",
    "   _ _   _| |_  __ _   |  Type \"?\" for help, \"]?\" for Pkg help.\n",
    "  | | | | | | |/ _` |  |\n",
    "  | | |_| | | | (_| |  |  Version 1.8.1 (2022-09-06)\n",
    " _/ |\\__'_|_|_|\\__'_|  |  Official https://julialang.org/ release\n",
    "|__/                   |\n",
    "\n",
    "julia> using Pkg\n",
    "\n",
    "...\n",
    "\n",
    "julia> Pkg.add(\"IJulia\")\n",
    "\n",
    "...\n",
    "\n",
    "julia> Pkg.add(\"HTTP\")\n",
    "\n",
    "...\n",
    "\n",
    "julia> Pkg.add(\"JSON\")\n",
    "\n",
    "...\n",
    "```\n",
    "\n",
    "## Find available Arweave nodes\n",
    "\n",
    "Find available Arweave nodes and generate generate `nodes.json`. This step needs to be rerun once or twice a day when working on this notebook. The generated file is then used later in the notebook. This takes couple of minutes to run:\n",
    "\n",
    "```sh\n",
    "$ cargo run -r --bin crawl-peers -- --max-concurrency 400 --max-count 100 --max-depth 3 --req-timeout-secs 4 > nodes.json\n",
    "```\n",
    "\n",
    "## Start  Jupyter Notebook\n",
    "\n",
    "```sh\n",
    "$ cd /path/to/this/project/\n",
    "$ jupyter-notebook\n",
    "```"
   ]
  },
  {
   "cell_type": "code",
   "execution_count": 1,
   "id": "192957b8",
   "metadata": {},
   "outputs": [],
   "source": [
    "using HTTP;\n",
    "using JSON;"
   ]
  },
  {
   "cell_type": "code",
   "execution_count": 2,
   "id": "fc6c2513",
   "metadata": {},
   "outputs": [
    {
     "data": {
      "text/plain": [
       "getoffset (generic function with 1 method)"
      ]
     },
     "execution_count": 2,
     "metadata": {},
     "output_type": "execute_result"
    }
   ],
   "source": [
    "function getoffset(tx)\n",
    "    resp = HTTP.request(\"GET\", \"https://arweave.net/tx/$tx/offset\");\n",
    "    json = JSON.parse(String(resp.body));\n",
    "    tx_size = parse(Int64, json[\"size\"]);\n",
    "    end_offset = parse(Int64, json[\"offset\"]);\n",
    "    start_offset = end_offset - tx_size;\n",
    "    Dict(:start_offset => start_offset, :end_offset => end_offset, :size => tx_size)\n",
    "end"
   ]
  },
  {
   "cell_type": "code",
   "execution_count": 3,
   "id": "00cfff3e",
   "metadata": {},
   "outputs": [],
   "source": [
    "# One tx that is a bundle\n",
    "tx = \"hUUFmn3FIlPEFkZwpcsaEJxMMQ2YQnl22NXAXUUTODY\";\n",
    "\n",
    "# Just one smaller tx that's not a bundle\n",
    "# tx = \"2tbslSgd8sV3pPMC4ZxSO05yZc4aUBAy7YEculqbp4M\";"
   ]
  },
  {
   "cell_type": "code",
   "execution_count": 4,
   "id": "ed2aff59",
   "metadata": {},
   "outputs": [
    {
     "data": {
      "text/plain": [
       "Dict{Symbol, Int64} with 3 entries:\n",
       "  :size         => 449120499\n",
       "  :end_offset   => 100482896210409\n",
       "  :start_offset => 100482447089910"
      ]
     },
     "execution_count": 4,
     "metadata": {},
     "output_type": "execute_result"
    }
   ],
   "source": [
    "(start_offset, end_offset, tx_size) = getoffset(tx) |> (data) -> (start_offset = get!(data, :start_offset, 0), end_offset = get!(data, :end_offset, 0), tx_size = get!(data, :size, 0));\n",
    "\n",
    "Dict(:size => tx_size, :end_offset => end_offset, :start_offset => start_offset)"
   ]
  },
  {
   "cell_type": "code",
   "execution_count": 5,
   "id": "cc882eff",
   "metadata": {},
   "outputs": [
    {
     "data": {
      "text/plain": [
       "63-element Vector{String}:\n",
       " \"http://116.203.213.56:1984\"\n",
       " \"http://65.108.206.14:1984\"\n",
       " \"http://159.69.251.19:1984\"\n",
       " \"http://88.99.139.151:1984\"\n",
       " \"http://45.153.35.151:1984\"\n",
       " \"http://188.166.192.169:1984\"\n",
       " \"http://23.88.65.188:1984\"\n",
       " \"http://157.230.102.219:1984\"\n",
       " \"http://18.169.106.95:1984\"\n",
       " \"http://89.58.45.74:1984\"\n",
       " \"http://65.21.146.138:1984\"\n",
       " \"http://47.90.203.43:1984\"\n",
       " \"http://138.68.42.181:1984\"\n",
       " ⋮\n",
       " \"http://135.181.137.241:1984\"\n",
       " \"http://65.21.204.231:1984\"\n",
       " \"http://65.108.126.145:1984\"\n",
       " \"http://65.21.201.96:1984\"\n",
       " \"http://165.227.34.27:1984\"\n",
       " \"http://60.162.132.189:1984\"\n",
       " \"http://46.189.145.50:1984\"\n",
       " \"http://211.21.182.11:1984\"\n",
       " \"http://65.108.15.151:1984\"\n",
       " \"http://206.83.144.16:1984\"\n",
       " \"http://206.83.144.15:1984\"\n",
       " \"http://98.180.9.81:1984\""
      ]
     },
     "execution_count": 5,
     "metadata": {},
     "output_type": "execute_result"
    }
   ],
   "source": [
    "f = open(\"nodes.json\")\n",
    "nodes = map((address) -> \"http://$address\", JSON.parse(readlines(f)[1]));\n",
    "close(f);\n",
    "\n",
    "nodes"
   ]
  },
  {
   "cell_type": "code",
   "execution_count": 6,
   "id": "7b595c33",
   "metadata": {},
   "outputs": [],
   "source": [
    "num_chunks = ceil(Int64, tx_size / (256 * 1024));"
   ]
  },
  {
   "cell_type": "code",
   "execution_count": 7,
   "id": "1c8db33c",
   "metadata": {},
   "outputs": [
    {
     "data": {
      "text/plain": [
       "1712-element Vector{Int64}:\n",
       " 100482447089910\n",
       " 100482447352054\n",
       " 100482447614198\n",
       " 100482447876342\n",
       " 100482448138486\n",
       " 100482448400630\n",
       " 100482448662774\n",
       " 100482448924918\n",
       " 100482449187062\n",
       " 100482449449206\n",
       " 100482449711350\n",
       " 100482449973494\n",
       " 100482450235638\n",
       "               ⋮\n",
       " 100482892734710\n",
       " 100482892996854\n",
       " 100482893258998\n",
       " 100482893521142\n",
       " 100482893783286\n",
       " 100482894045430\n",
       " 100482894307574\n",
       " 100482894569718\n",
       " 100482894831862\n",
       " 100482895094006\n",
       " 100482895356150\n",
       " 100482895618294"
      ]
     },
     "execution_count": 7,
     "metadata": {},
     "output_type": "execute_result"
    }
   ],
   "source": [
    "chunks = collect(range(start_offset; length = num_chunks - 2, step = 256 * 1024))"
   ]
  },
  {
   "cell_type": "code",
   "execution_count": 8,
   "id": "1cf96207",
   "metadata": {},
   "outputs": [
    {
     "data": {
      "text/plain": [
       "getdatasyncrecord (generic function with 1 method)"
      ]
     },
     "execution_count": 8,
     "metadata": {},
     "output_type": "execute_result"
    }
   ],
   "source": [
    "function getdatasyncrecord(start_offset, base_address)\n",
    "    url = \"$base_address/data_sync_record/$start_offset/1\";\n",
    "    try\n",
    "        res = HTTP.get(url, [\"Content-Type\" => \"application/json\"]);\n",
    "        if res.status >= 200 && res.status < 400\n",
    "            return JSON.parse(String(res.body));\n",
    "        else\n",
    "            return [];\n",
    "        end\n",
    "    catch e\n",
    "        return [];\n",
    "    end\n",
    "end"
   ]
  },
  {
   "cell_type": "code",
   "execution_count": 9,
   "id": "f97e0287",
   "metadata": {
    "scrolled": false
   },
   "outputs": [],
   "source": [
    "data_sync_records = map(node -> (node, getdatasyncrecord(start_offset, node)), nodes);"
   ]
  },
  {
   "cell_type": "code",
   "execution_count": 10,
   "id": "037d6300",
   "metadata": {
    "scrolled": true
   },
   "outputs": [],
   "source": [
    "nodes_with_ranges = map(data_sync_records) do (node, records)\n",
    "    ranges = records |> collect ∘ Base.Iterators.flatten .|> e -> [parse(Int64, e.second), parse(Int64, e.first)];\n",
    "    if length(ranges) == 1\n",
    "        return (node, ranges[1])\n",
    "    else\n",
    "        return (node, [])\n",
    "    end\n",
    "end;\n"
   ]
  },
  {
   "cell_type": "code",
   "execution_count": 11,
   "id": "0f88bb59",
   "metadata": {},
   "outputs": [
    {
     "data": {
      "text/plain": [
       "6-element Vector{Tuple{String, Vector}}:\n",
       " (\"http://23.88.65.188:1984\", [100482019270902, 100486707716342])\n",
       " (\"http://162.220.53.21:1984\", [100482447089910, 100482896404726])\n",
       " (\"http://65.21.204.231:1984\", [100482019270902, 100483578503414])\n",
       " (\"http://65.21.201.96:1984\", [100482019270902, 100486707716342])\n",
       " (\"http://206.83.144.16:1984\", [100482019270902, 100486707716342])\n",
       " (\"http://206.83.144.15:1984\", [100482019270902, 100485453095158])"
      ]
     },
     "execution_count": 11,
     "metadata": {},
     "output_type": "execute_result"
    }
   ],
   "source": [
    "nodes_with_full_data = filter(nodes_with_ranges) do (node, range)\n",
    "    length(range) == 2 && range[1] <= start_offset && range[2] >= end_offset\n",
    "end"
   ]
  },
  {
   "cell_type": "code",
   "execution_count": 12,
   "id": "90e0a849",
   "metadata": {},
   "outputs": [
    {
     "data": {
      "text/plain": [
       "6-element Vector{Tuple{String, Vector}}:\n",
       " (\"http://23.88.65.188:1984\", [100482019270902, 100486707716342])\n",
       " (\"http://162.220.53.21:1984\", [100482447089910, 100482896404726])\n",
       " (\"http://65.21.204.231:1984\", [100482019270902, 100483578503414])\n",
       " (\"http://65.21.201.96:1984\", [100482019270902, 100486707716342])\n",
       " (\"http://206.83.144.16:1984\", [100482019270902, 100486707716342])\n",
       " (\"http://206.83.144.15:1984\", [100482019270902, 100485453095158])"
      ]
     },
     "execution_count": 12,
     "metadata": {},
     "output_type": "execute_result"
    }
   ],
   "source": [
    "nodes_with_partial_data = filter(nodes_with_ranges) do (node, range)\n",
    "    length(range) == 2 && (range[1] <= start_offset && range[2] > start_offset || range[1] < end_offset && range[2] >= end_offset)\n",
    "end"
   ]
  },
  {
   "cell_type": "code",
   "execution_count": 13,
   "id": "89a74cbb",
   "metadata": {},
   "outputs": [
    {
     "data": {
      "text/plain": [
       "Tuple{String, Vector}[]"
      ]
     },
     "execution_count": 13,
     "metadata": {},
     "output_type": "execute_result"
    }
   ],
   "source": [
    "only_nodes_with_partial_data = setdiff(nodes_with_partial_data, nodes_with_full_data)"
   ]
  },
  {
   "cell_type": "code",
   "execution_count": null,
   "id": "525b0999",
   "metadata": {},
   "outputs": [],
   "source": []
  }
 ],
 "metadata": {
  "kernelspec": {
   "display_name": "Julia 1.8.1",
   "language": "julia",
   "name": "julia-1.8"
  },
  "language_info": {
   "file_extension": ".jl",
   "mimetype": "application/julia",
   "name": "julia",
   "version": "1.8.1"
  }
 },
 "nbformat": 4,
 "nbformat_minor": 5
}
